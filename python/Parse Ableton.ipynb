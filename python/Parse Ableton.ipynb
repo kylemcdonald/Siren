{
 "cells": [
  {
   "cell_type": "code",
   "execution_count": 1,
   "metadata": {},
   "outputs": [],
   "source": [
    "import gzip\n",
    "from xml.dom import minidom\n",
    "from utils.list_files import get_stem\n",
    "import os\n",
    "import json\n",
    "from utils.imutil import imshow\n",
    "import numpy as np"
   ]
  },
  {
   "cell_type": "code",
   "execution_count": 2,
   "metadata": {},
   "outputs": [],
   "source": [
    "with gzip.open('data/Siren_063021_NoPec_MoreReverb_SideEntrance+Lighting.als') as f:\n",
    "    raw = minidom.parseString(f.read())\n",
    "    \n",
    "def get_attribute(elt, attrib_name):\n",
    "    return elt.attributes[attrib_name].value\n",
    "    \n",
    "def get_tag_attribute(elt, tag_name, attrib_name):\n",
    "    target = elt\n",
    "    for e in tag_name.split('/'):\n",
    "        target = target.getElementsByTagName(e)[0]\n",
    "    return get_attribute(target, attrib_name)"
   ]
  },
  {
   "cell_type": "code",
   "execution_count": 3,
   "metadata": {},
   "outputs": [],
   "source": [
    "tempo = float(get_tag_attribute(raw, 'Tempo/Manual', 'Value'))\n",
    "seconds_per_beat = 60 / tempo"
   ]
  },
  {
   "cell_type": "code",
   "execution_count": 4,
   "metadata": {},
   "outputs": [],
   "source": [
    "# get all arranger audio clips and flatten \n",
    "all_automation = raw.getElementsByTagName('ArrangerAutomation')\n",
    "audio_clips = [e.getElementsByTagName('AudioClip') for e in all_automation]\n",
    "audio_clips = [e for l in audio_clips for e in l]"
   ]
  },
  {
   "cell_type": "code",
   "execution_count": 5,
   "metadata": {},
   "outputs": [],
   "source": [
    "offsets = []\n",
    "\n",
    "for audio_clip in audio_clips:\n",
    "    try:\n",
    "        # live 10\n",
    "        filename = get_tag_attribute(audio_clip, 'FileRef/Name', 'Value')\n",
    "    except:\n",
    "        # live 11\n",
    "        filename = get_tag_attribute(audio_clip, 'FileRef/RelativePath', 'Value')\n",
    "        _, filename = os.path.split(filename)\n",
    "    start = get_tag_attribute(audio_clip, 'CurrentStart', 'Value')\n",
    "    start = float(start) * seconds_per_beat # beats\n",
    "    end = get_tag_attribute(audio_clip, 'CurrentEnd', 'Value')\n",
    "    end = float(end) * seconds_per_beat # beats\n",
    "    loop_start = get_tag_attribute(audio_clip, 'LoopStart', 'Value')\n",
    "    loop_start = float(loop_start) # seconds\n",
    "    \n",
    "    # patch this filename with the other, which is offset\n",
    "    if filename == '022619_Solo with Shrimp_Bass_mcq_02-28-20_Start Theme 1.wav':\n",
    "        filename = '022619_Solo with Shrimp_Bass_mcq_02-28-20.wav'\n",
    "        loop_start += 7 * 60 + 4 # 7m4s from start of original\n",
    "        \n",
    "    offsets.append((filename, loop_start, start, end))\n",
    "    \n",
    "# dedupe to remove overlapping tracks\n",
    "offsets = list(set(offsets))"
   ]
  },
  {
   "cell_type": "code",
   "execution_count": 6,
   "metadata": {},
   "outputs": [
    {
     "data": {
      "text/plain": [
       "(8,\n",
       " [('022219_Mono-003_Flutter_Penultimate_mcq_021420.wav', 0.0, 1940.0, 2250.0),\n",
       "  ('FULL_Background_mcq021420.wav', 0.0, 2.0, 2380.033741518898),\n",
       "  ('022319_Mono-001_Amazing_Solo_HPF-12_mcq013120.wav',\n",
       "   0.0,\n",
       "   308.0,\n",
       "   852.0000186011905),\n",
       "  ('BEST_Whale Duet_Bass_EQ_mcq013120.wav', 0.0, 594.0, 1038.061523502539),\n",
       "  ('Pec Slaps Cleaned Up.wav', 0.0, 1456.0, 1598.6309999895936),\n",
       "  ('022619_Solo with Shrimp_Bass_mcq_02-28-20.wav',\n",
       "   430.0,\n",
       "   826.0,\n",
       "   1903.4849998959373),\n",
       "  ('BEST_Whale Duet_Bass_EQ_mcq013120.wav', 0.0, 1540.0, 2000.0),\n",
       "  ('Pec Slaps Cleaned Up.wav', 0.0, 170.0, 312.63099998959376)])"
      ]
     },
     "execution_count": 6,
     "metadata": {},
     "output_type": "execute_result"
    }
   ],
   "source": [
    "len(offsets), offsets"
   ]
  },
  {
   "cell_type": "code",
   "execution_count": 7,
   "metadata": {},
   "outputs": [],
   "source": [
    "output_framerate = 60"
   ]
  },
  {
   "cell_type": "code",
   "execution_count": 8,
   "metadata": {},
   "outputs": [
    {
     "data": {
      "text/plain": [
       "86.1328125"
      ]
     },
     "execution_count": 8,
     "metadata": {},
     "output_type": "execute_result"
    }
   ],
   "source": [
    "sr = 44100\n",
    "hop_length = 512\n",
    "feature_framerate = sr / hop_length\n",
    "feature_framerate"
   ]
  },
  {
   "cell_type": "code",
   "execution_count": 17,
   "metadata": {},
   "outputs": [
    {
     "name": "stdout",
     "output_type": "stream",
     "text": [
      "using 022219_Mono-003_Flutter_Penultimate_mcq_021420\n",
      "skipping FULL_Background_mcq021420\n",
      "using 022319_Mono-001_Amazing_Solo_HPF-12_mcq013120\n",
      "skipping BEST_Whale Duet_Bass_EQ_mcq013120\n",
      "skipping Pec Slaps Cleaned Up\n",
      "using 022619_Solo with Shrimp_Bass_mcq_02-28-20\n",
      "skipping BEST_Whale Duet_Bass_EQ_mcq013120\n",
      "skipping Pec Slaps Cleaned Up\n",
      "\n",
      "max 0.9999997700251282\n",
      "out of bounds 59\n",
      "saving data/design-annotated.json\n",
      "done\n"
     ]
    }
   ],
   "source": [
    "# run this code once with \"True\" and once with \"False\"\n",
    "# to get the annotated and unannotated versions\n",
    "use_annotated = True\n",
    "\n",
    "n_lights = 15\n",
    "color_channels = 3\n",
    "\n",
    "def is_annotated(stem):\n",
    "    annotation_fn = f'data/{stem}.Table.1.selections.txt'\n",
    "    return os.path.exists(annotation_fn)\n",
    "\n",
    "end_time = max([e[-1] for e in offsets])\n",
    "max_index = int(end_time * output_framerate)\n",
    "full_design = np.zeros((max_index, n_lights, color_channels))\n",
    "\n",
    "out_of_bounds = 0\n",
    "\n",
    "for audio_fn, loop_start, start, end in offsets:\n",
    "    stem = get_stem(audio_fn)\n",
    "#     print(stem)\n",
    "\n",
    "    if use_annotated != 'both' and is_annotated(stem) != use_annotated:\n",
    "        print('skipping', stem)\n",
    "        continue\n",
    "    print('using', stem)\n",
    "    \n",
    "    design_fn = f'design/{stem}.npy'\n",
    "    if not os.path.exists(design_fn):\n",
    "        print(start, end, 'skipping', stem)\n",
    "        continue\n",
    "\n",
    "    design = np.load(design_fn)\n",
    "    \n",
    "    start_index = int(start * output_framerate)\n",
    "    end_index = int(end * output_framerate)\n",
    "    \n",
    "    # this uses a nearest neighbor interpolation\n",
    "    # but we could use another technique for rescaling\n",
    "    for i in range(start_index, end_index):\n",
    "        t = (i - start_index) / output_framerate\n",
    "        t += loop_start\n",
    "        j = int(t * feature_framerate)\n",
    "        \n",
    "        try:\n",
    "            full_design[i] += design[j]\n",
    "        except:\n",
    "            out_of_bounds += 1\n",
    "        \n",
    "print()\n",
    "print('max', full_design.max())\n",
    "print('out of bounds', out_of_bounds)\n",
    "\n",
    "dmx = (np.clip(full_design, 0, 1) * 255).astype(int)\n",
    "\n",
    "output = {\n",
    "    'framerate': output_framerate,\n",
    "    'data': dmx.tolist()\n",
    "}\n",
    "\n",
    "if use_annotated == 'both':\n",
    "    description = ''\n",
    "else:\n",
    "    description = '-annotated' if use_annotated else '-unannotated'\n",
    "fn = f'data/design{description}.json'\n",
    "print('saving', fn)\n",
    "with open(fn, 'w') as f:\n",
    "    json.dump(output, f, separators=(',',':'))#, indent=2)\n",
    "\n",
    "print('done')"
   ]
  },
  {
   "cell_type": "code",
   "execution_count": 18,
   "metadata": {},
   "outputs": [],
   "source": [
    "h,w,c = dmx.shape"
   ]
  },
  {
   "cell_type": "code",
   "execution_count": 19,
   "metadata": {},
   "outputs": [],
   "source": [
    "cols = 1024\n",
    "rows = int(np.ceil(h / 1024))\n",
    "img = np.zeros((rows * cols, w, 3), np.uint8)"
   ]
  },
  {
   "cell_type": "code",
   "execution_count": 20,
   "metadata": {},
   "outputs": [],
   "source": [
    "img[:len(dmx)] = dmx[:,:,:3]"
   ]
  },
  {
   "cell_type": "code",
   "execution_count": 23,
   "metadata": {},
   "outputs": [],
   "source": [
    "# imshow(np.hstack(img.reshape(-1, cols, 15, 3)))"
   ]
  },
  {
   "cell_type": "code",
   "execution_count": null,
   "metadata": {},
   "outputs": [],
   "source": []
  }
 ],
 "metadata": {
  "kernelspec": {
   "display_name": "Python 3 (ipykernel)",
   "language": "python",
   "name": "python3"
  },
  "language_info": {
   "codemirror_mode": {
    "name": "ipython",
    "version": 3
   },
   "file_extension": ".py",
   "mimetype": "text/x-python",
   "name": "python",
   "nbconvert_exporter": "python",
   "pygments_lexer": "ipython3",
   "version": "3.9.7"
  }
 },
 "nbformat": 4,
 "nbformat_minor": 4
}
